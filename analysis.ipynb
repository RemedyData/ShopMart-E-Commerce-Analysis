{
 "cells": [
  {
   "cell_type": "markdown",
   "id": "28288c71-9d93-41c6-b1f5-66cc7a5a8062",
   "metadata": {},
   "source": [
    "# SQL-Python Project: Sales Data Analysis\r\n",
    "\r\n",
    "**Author:** Ramadan Salman  \r\n",
    "**Date:** 2025-06-02  \r\n",
    "\r\n",
    "---\r\n",
    "\r\n",
    "## Objective\r\n",
    "\r\n",
    "This notebook connects to a MySQL database, extracts sales data from multiple related tables, and performs exploratory data analysis (EDA) using Python.\r\n",
    "\r\n",
    "---\r\n",
    "\r\n",
    "## Data Source\r\n",
    "\r\n",
    "- **Database:** `sales_db` (MySQL)\r\n",
    "- **Tables Used:**\r\n",
    "  - `orders`\r\n",
    "  - `customers`\r\n",
    "  - `orderdetails`\r\n",
    "  - `products`\r\n",
    "\r\n",
    "---\r\n"
   ]
  },
  {
   "cell_type": "markdown",
   "id": "4a6cf0f2-8e20-4550-a37f-20ec7a70017c",
   "metadata": {},
   "source": [
    "## Install Required Packages"
   ]
  },
  {
   "cell_type": "code",
   "execution_count": 89,
   "id": "225f9e55-2c32-484e-8b59-8d2256955e40",
   "metadata": {},
   "outputs": [
    {
     "name": "stdout",
     "output_type": "stream",
     "text": [
      "Requirement already satisfied: mysql-connector-python in c:\\users\\user\\anaconda3\\lib\\site-packages (from -r requirements.txt (line 1)) (9.3.0)Note: you may need to restart the kernel to use updated packages.\n",
      "\n",
      "Requirement already satisfied: faker in c:\\users\\user\\anaconda3\\lib\\site-packages (from -r requirements.txt (line 2)) (37.3.0)\n",
      "Requirement already satisfied: pandas in c:\\users\\user\\anaconda3\\lib\\site-packages (from -r requirements.txt (line 3)) (2.1.4)\n",
      "Requirement already satisfied: python-dotenv in c:\\users\\user\\anaconda3\\lib\\site-packages (from -r requirements.txt (line 4)) (0.21.0)\n",
      "Requirement already satisfied: tzdata in c:\\users\\user\\anaconda3\\lib\\site-packages (from faker->-r requirements.txt (line 2)) (2023.3)\n",
      "Requirement already satisfied: numpy<2,>=1.23.2 in c:\\users\\user\\anaconda3\\lib\\site-packages (from pandas->-r requirements.txt (line 3)) (1.26.4)\n",
      "Requirement already satisfied: python-dateutil>=2.8.2 in c:\\users\\user\\anaconda3\\lib\\site-packages (from pandas->-r requirements.txt (line 3)) (2.8.2)\n",
      "Requirement already satisfied: pytz>=2020.1 in c:\\users\\user\\anaconda3\\lib\\site-packages (from pandas->-r requirements.txt (line 3)) (2023.3.post1)\n",
      "Requirement already satisfied: six>=1.5 in c:\\users\\user\\anaconda3\\lib\\site-packages (from python-dateutil>=2.8.2->pandas->-r requirements.txt (line 3)) (1.16.0)\n"
     ]
    }
   ],
   "source": [
    "pip install -r requirements.txt\n"
   ]
  },
  {
   "cell_type": "markdown",
   "id": "3e859c1d-f587-4430-bd84-1d41162b2f6f",
   "metadata": {},
   "source": [
    "### Setup Connection"
   ]
  },
  {
   "cell_type": "code",
   "execution_count": 92,
   "id": "79c4472e-0afa-4413-93c5-4d3c05b3353d",
   "metadata": {},
   "outputs": [
    {
     "data": {
      "text/plain": [
       "True"
      ]
     },
     "execution_count": 92,
     "metadata": {},
     "output_type": "execute_result"
    }
   ],
   "source": [
    "load_dotenv(dotenv_path=\"key.env\")\n"
   ]
  },
  {
   "cell_type": "code",
   "execution_count": 94,
   "id": "011a94e7-19f4-4304-bc7f-6cd1e75a1f8c",
   "metadata": {},
   "outputs": [
    {
     "name": "stdout",
     "output_type": "stream",
     "text": [
      "DB Host from .env = 127.0.0.1\n"
     ]
    }
   ],
   "source": [
    "print(\"DB Host from .env =\", os.getenv(\"DB_HOST\"))\n"
   ]
  },
  {
   "cell_type": "code",
   "execution_count": 96,
   "id": "d5f97455-1703-44a7-a7d6-43912d194c3f",
   "metadata": {},
   "outputs": [
    {
     "data": {
      "text/plain": [
       "[('customers',), ('orderdetails',), ('orders',), ('products',)]"
      ]
     },
     "execution_count": 96,
     "metadata": {},
     "output_type": "execute_result"
    }
   ],
   "source": [
    "from db import get_connection\n",
    "import pandas as pd\n",
    "\n",
    "conn = get_connection()\n",
    "cursor = conn.cursor()\n",
    "cursor.execute(\"SHOW TABLES;\")\n",
    "cursor.fetchall()\n"
   ]
  },
  {
   "cell_type": "markdown",
   "id": "32b31795-1981-4b1f-aa5f-92b75ec1ff5f",
   "metadata": {},
   "source": [
    "## Customer Segmentation"
   ]
  },
  {
   "cell_type": "markdown",
   "id": "909258c5-f182-44cb-a2ce-aa778c396079",
   "metadata": {},
   "source": [
    "#### - Top 10 Customers by Spending"
   ]
  },
  {
   "cell_type": "code",
   "execution_count": 100,
   "id": "2e102622-ce4f-4fe4-9360-3a64b693d6d9",
   "metadata": {},
   "outputs": [
    {
     "name": "stderr",
     "output_type": "stream",
     "text": [
      "C:\\Users\\User\\AppData\\Local\\Temp\\ipykernel_8780\\2887578786.py:9: UserWarning: pandas only supports SQLAlchemy connectable (engine/connection) or database string URI or sqlite3 DBAPI2 connection. Other DBAPI2 objects are not tested. Please consider using SQLAlchemy.\n",
      "  top_customers = pd.read_sql(query, conn)\n"
     ]
    },
    {
     "data": {
      "text/html": [
       "<div>\n",
       "<style scoped>\n",
       "    .dataframe tbody tr th:only-of-type {\n",
       "        vertical-align: middle;\n",
       "    }\n",
       "\n",
       "    .dataframe tbody tr th {\n",
       "        vertical-align: top;\n",
       "    }\n",
       "\n",
       "    .dataframe thead th {\n",
       "        text-align: right;\n",
       "    }\n",
       "</style>\n",
       "<table border=\"1\" class=\"dataframe\">\n",
       "  <thead>\n",
       "    <tr style=\"text-align: right;\">\n",
       "      <th></th>\n",
       "      <th>customer_id</th>\n",
       "      <th>first_name</th>\n",
       "      <th>last_name</th>\n",
       "      <th>total_spent</th>\n",
       "    </tr>\n",
       "  </thead>\n",
       "  <tbody>\n",
       "    <tr>\n",
       "      <th>0</th>\n",
       "      <td>244</td>\n",
       "      <td>Jason</td>\n",
       "      <td>Mcdaniel</td>\n",
       "      <td>74243.95</td>\n",
       "    </tr>\n",
       "    <tr>\n",
       "      <th>1</th>\n",
       "      <td>56</td>\n",
       "      <td>Jasmine</td>\n",
       "      <td>Rice</td>\n",
       "      <td>72610.71</td>\n",
       "    </tr>\n",
       "    <tr>\n",
       "      <th>2</th>\n",
       "      <td>19</td>\n",
       "      <td>Marcus</td>\n",
       "      <td>Norris</td>\n",
       "      <td>70143.42</td>\n",
       "    </tr>\n",
       "    <tr>\n",
       "      <th>3</th>\n",
       "      <td>491</td>\n",
       "      <td>Roger</td>\n",
       "      <td>Wilkins</td>\n",
       "      <td>66891.45</td>\n",
       "    </tr>\n",
       "    <tr>\n",
       "      <th>4</th>\n",
       "      <td>347</td>\n",
       "      <td>Christy</td>\n",
       "      <td>Mcmahon</td>\n",
       "      <td>64808.71</td>\n",
       "    </tr>\n",
       "    <tr>\n",
       "      <th>5</th>\n",
       "      <td>88</td>\n",
       "      <td>Amy</td>\n",
       "      <td>Taylor</td>\n",
       "      <td>64737.86</td>\n",
       "    </tr>\n",
       "    <tr>\n",
       "      <th>6</th>\n",
       "      <td>330</td>\n",
       "      <td>Amber</td>\n",
       "      <td>Middleton</td>\n",
       "      <td>64724.78</td>\n",
       "    </tr>\n",
       "    <tr>\n",
       "      <th>7</th>\n",
       "      <td>389</td>\n",
       "      <td>Martin</td>\n",
       "      <td>Williams</td>\n",
       "      <td>63470.36</td>\n",
       "    </tr>\n",
       "    <tr>\n",
       "      <th>8</th>\n",
       "      <td>76</td>\n",
       "      <td>Andrew</td>\n",
       "      <td>Williams</td>\n",
       "      <td>63086.13</td>\n",
       "    </tr>\n",
       "    <tr>\n",
       "      <th>9</th>\n",
       "      <td>6</td>\n",
       "      <td>Ariel</td>\n",
       "      <td>Marks</td>\n",
       "      <td>63063.46</td>\n",
       "    </tr>\n",
       "  </tbody>\n",
       "</table>\n",
       "</div>"
      ],
      "text/plain": [
       "   customer_id first_name  last_name  total_spent\n",
       "0          244      Jason   Mcdaniel     74243.95\n",
       "1           56    Jasmine       Rice     72610.71\n",
       "2           19     Marcus     Norris     70143.42\n",
       "3          491      Roger    Wilkins     66891.45\n",
       "4          347    Christy    Mcmahon     64808.71\n",
       "5           88        Amy     Taylor     64737.86\n",
       "6          330      Amber  Middleton     64724.78\n",
       "7          389     Martin   Williams     63470.36\n",
       "8           76     Andrew   Williams     63086.13\n",
       "9            6      Ariel      Marks     63063.46"
      ]
     },
     "execution_count": 100,
     "metadata": {},
     "output_type": "execute_result"
    }
   ],
   "source": [
    "query = \"\"\"\n",
    "SELECT c.customer_id, c.first_name, c.last_name, SUM(o.total_amount) AS total_spent\n",
    "FROM Customers c\n",
    "JOIN Orders o ON c.customer_id = o.customer_id\n",
    "GROUP BY c.customer_id\n",
    "ORDER BY total_spent DESC\n",
    "LIMIT 10;\n",
    "\"\"\"\n",
    "top_customers = pd.read_sql(query, conn)\n",
    "top_customers"
   ]
  },
  {
   "cell_type": "markdown",
   "id": "f8daeebd-95ec-45cb-99a7-83d908a2f86d",
   "metadata": {},
   "source": [
    "#### - Spending by Region"
   ]
  },
  {
   "cell_type": "code",
   "execution_count": 103,
   "id": "c5d05ba8-b108-4a43-85ce-27e695147f28",
   "metadata": {},
   "outputs": [
    {
     "name": "stderr",
     "output_type": "stream",
     "text": [
      "C:\\Users\\User\\AppData\\Local\\Temp\\ipykernel_8780\\3860754397.py:8: UserWarning: pandas only supports SQLAlchemy connectable (engine/connection) or database string URI or sqlite3 DBAPI2 connection. Other DBAPI2 objects are not tested. Please consider using SQLAlchemy.\n",
      "  region_spend = pd.read_sql(query, conn)\n"
     ]
    },
    {
     "data": {
      "image/png": "[encoded data removed]",
      "text/plain": [
       "<Figure size 640x480 with 1 Axes>"
      ]
     },
     "metadata": {},
     "output_type": "display_data"
    }
   ],
   "source": [
    "query = \"\"\"\n",
    "SELECT region, SUM(o.total_amount) AS regional_spending\n",
    "FROM Customers c\n",
    "JOIN Orders o ON c.customer_id = o.customer_id\n",
    "GROUP BY region\n",
    "ORDER BY regional_spending DESC;\n",
    "\"\"\"\n",
    "region_spend = pd.read_sql(query, conn)\n",
    "sns.barplot(data=region_spend, x='region', y='regional_spending')\n",
    "plt.title('Total Spending by Region')\n",
    "plt.show()\n"
   ]
  },
  {
   "cell_type": "markdown",
   "id": "02034a86-ea1d-4ef1-9155-8e5a822f295c",
   "metadata": {},
   "source": [
    "## Sales Performance"
   ]
  },
  {
   "cell_type": "markdown",
   "id": "f1f24a7a-59c0-4d07-9c27-71e31d202dc9",
   "metadata": {},
   "source": [
    "#### - Monthly Sales (Last 12 Months)"
   ]
  },
  {
   "cell_type": "code",
   "execution_count": 107,
   "id": "0f19ebc6-cc42-4f74-b35b-914db326a893",
   "metadata": {},
   "outputs": [
    {
     "name": "stderr",
     "output_type": "stream",
     "text": [
      "C:\\Users\\User\\AppData\\Local\\Temp\\ipykernel_8780\\4024461500.py:8: UserWarning: pandas only supports SQLAlchemy connectable (engine/connection) or database string URI or sqlite3 DBAPI2 connection. Other DBAPI2 objects are not tested. Please consider using SQLAlchemy.\n",
      "  monthly_sales = pd.read_sql(query, conn)\n"
     ]
    },
    {
     "data": {
      "image/png": "[encoded data removed]",
      "text/plain": [
       "<Figure size 640x480 with 1 Axes>"
      ]
     },
     "metadata": {},
     "output_type": "display_data"
    }
   ],
   "source": [
    "query = \"\"\"\n",
    "SELECT DATE_FORMAT(order_date, '%Y-%m') AS month, SUM(total_amount) AS monthly_sales\n",
    "FROM Orders\n",
    "WHERE order_date >= CURDATE() - INTERVAL 12 MONTH\n",
    "GROUP BY month\n",
    "ORDER BY month;\n",
    "\"\"\"\n",
    "monthly_sales = pd.read_sql(query, conn)\n",
    "monthly_sales.plot(kind='line', x='month', y='monthly_sales', title='Monthly Sales Over Last Year')\n",
    "plt.ylabel('Sales')\n",
    "plt.xticks(rotation=45)\n",
    "plt.show()\n"
   ]
  },
  {
   "cell_type": "markdown",
   "id": "82e0f9db-0aa1-436f-8f19-712c9a3f8125",
   "metadata": {},
   "source": [
    "#### - Top 5 Categories by Total Sales\n"
   ]
  },
  {
   "cell_type": "code",
   "execution_count": 110,
   "id": "b6b652c4-d165-4931-a6ff-c7792141e226",
   "metadata": {},
   "outputs": [
    {
     "name": "stderr",
     "output_type": "stream",
     "text": [
      "C:\\Users\\User\\AppData\\Local\\Temp\\ipykernel_8780\\875860184.py:9: UserWarning: pandas only supports SQLAlchemy connectable (engine/connection) or database string URI or sqlite3 DBAPI2 connection. Other DBAPI2 objects are not tested. Please consider using SQLAlchemy.\n",
      "  top_categories = pd.read_sql(query, conn)\n"
     ]
    },
    {
     "data": {
      "text/html": [
       "<div>\n",
       "<style scoped>\n",
       "    .dataframe tbody tr th:only-of-type {\n",
       "        vertical-align: middle;\n",
       "    }\n",
       "\n",
       "    .dataframe tbody tr th {\n",
       "        vertical-align: top;\n",
       "    }\n",
       "\n",
       "    .dataframe thead th {\n",
       "        text-align: right;\n",
       "    }\n",
       "</style>\n",
       "<table border=\"1\" class=\"dataframe\">\n",
       "  <thead>\n",
       "    <tr style=\"text-align: right;\">\n",
       "      <th></th>\n",
       "      <th>category</th>\n",
       "      <th>total_sales</th>\n",
       "      <th>units_sold</th>\n",
       "    </tr>\n",
       "  </thead>\n",
       "  <tbody>\n",
       "    <tr>\n",
       "      <th>0</th>\n",
       "      <td>Electronics</td>\n",
       "      <td>4805932.57</td>\n",
       "      <td>11301.0</td>\n",
       "    </tr>\n",
       "    <tr>\n",
       "      <th>1</th>\n",
       "      <td>Books</td>\n",
       "      <td>4603876.71</td>\n",
       "      <td>8567.0</td>\n",
       "    </tr>\n",
       "    <tr>\n",
       "      <th>2</th>\n",
       "      <td>Home Goods</td>\n",
       "      <td>3315314.18</td>\n",
       "      <td>8464.0</td>\n",
       "    </tr>\n",
       "    <tr>\n",
       "      <th>3</th>\n",
       "      <td>Clothing</td>\n",
       "      <td>3112868.05</td>\n",
       "      <td>6191.0</td>\n",
       "    </tr>\n",
       "    <tr>\n",
       "      <th>4</th>\n",
       "      <td>Toys</td>\n",
       "      <td>2941258.67</td>\n",
       "      <td>7150.0</td>\n",
       "    </tr>\n",
       "  </tbody>\n",
       "</table>\n",
       "</div>"
      ],
      "text/plain": [
       "      category  total_sales  units_sold\n",
       "0  Electronics   4805932.57     11301.0\n",
       "1        Books   4603876.71      8567.0\n",
       "2   Home Goods   3315314.18      8464.0\n",
       "3     Clothing   3112868.05      6191.0\n",
       "4         Toys   2941258.67      7150.0"
      ]
     },
     "execution_count": 110,
     "metadata": {},
     "output_type": "execute_result"
    }
   ],
   "source": [
    "query = \"\"\"\n",
    "SELECT p.category, SUM(od.quantity * p.price) AS total_sales, SUM(od.quantity) AS units_sold\n",
    "FROM OrderDetails od\n",
    "JOIN Products p ON od.product_id = p.product_id\n",
    "GROUP BY p.category\n",
    "ORDER BY total_sales DESC\n",
    "LIMIT 5;\n",
    "\"\"\"\n",
    "top_categories = pd.read_sql(query, conn)\n",
    "top_categories\n"
   ]
  },
  {
   "cell_type": "markdown",
   "id": "22effc96-8921-4e9d-90ff-c3bbe44efe26",
   "metadata": {},
   "source": [
    "## Order Status Analysis"
   ]
  },
  {
   "cell_type": "markdown",
   "id": "51eb2c96-bda1-437b-b03c-dcc370701c19",
   "metadata": {},
   "source": [
    "#### - Order Status Breakdown"
   ]
  },
  {
   "cell_type": "code",
   "execution_count": 114,
   "id": "4264b969-ea53-4e8c-9124-ae729eca0289",
   "metadata": {},
   "outputs": [
    {
     "name": "stderr",
     "output_type": "stream",
     "text": [
      "C:\\Users\\User\\AppData\\Local\\Temp\\ipykernel_8780\\1425811799.py:7: UserWarning: pandas only supports SQLAlchemy connectable (engine/connection) or database string URI or sqlite3 DBAPI2 connection. Other DBAPI2 objects are not tested. Please consider using SQLAlchemy.\n",
      "  status_breakdown = pd.read_sql(query, conn)\n"
     ]
    },
    {
     "data": {
      "text/html": [
       "<div>\n",
       "<style scoped>\n",
       "    .dataframe tbody tr th:only-of-type {\n",
       "        vertical-align: middle;\n",
       "    }\n",
       "\n",
       "    .dataframe tbody tr th {\n",
       "        vertical-align: top;\n",
       "    }\n",
       "\n",
       "    .dataframe thead th {\n",
       "        text-align: right;\n",
       "    }\n",
       "</style>\n",
       "<table border=\"1\" class=\"dataframe\">\n",
       "  <thead>\n",
       "    <tr style=\"text-align: right;\">\n",
       "      <th></th>\n",
       "      <th>order_status</th>\n",
       "      <th>count</th>\n",
       "      <th>percentage</th>\n",
       "    </tr>\n",
       "  </thead>\n",
       "  <tbody>\n",
       "    <tr>\n",
       "      <th>0</th>\n",
       "      <td>Completed</td>\n",
       "      <td>2541</td>\n",
       "      <td>33.88</td>\n",
       "    </tr>\n",
       "    <tr>\n",
       "      <th>1</th>\n",
       "      <td>Pending</td>\n",
       "      <td>2449</td>\n",
       "      <td>32.65</td>\n",
       "    </tr>\n",
       "    <tr>\n",
       "      <th>2</th>\n",
       "      <td>Canceled</td>\n",
       "      <td>2510</td>\n",
       "      <td>33.47</td>\n",
       "    </tr>\n",
       "  </tbody>\n",
       "</table>\n",
       "</div>"
      ],
      "text/plain": [
       "  order_status  count  percentage\n",
       "0    Completed   2541       33.88\n",
       "1      Pending   2449       32.65\n",
       "2     Canceled   2510       33.47"
      ]
     },
     "execution_count": 114,
     "metadata": {},
     "output_type": "execute_result"
    }
   ],
   "source": [
    "query = \"\"\"\n",
    "SELECT order_status, COUNT(*) AS count,\n",
    "       ROUND(100 * COUNT(*) / (SELECT COUNT(*) FROM Orders), 2) AS percentage\n",
    "FROM Orders\n",
    "GROUP BY order_status;\n",
    "\"\"\"\n",
    "status_breakdown = pd.read_sql(query, conn)\n",
    "status_breakdown\n"
   ]
  },
  {
   "cell_type": "markdown",
   "id": "c47c5837-ef6c-476c-9f09-1f93a49fe17e",
   "metadata": {},
   "source": [
    "#### - Average Order Value by Status"
   ]
  },
  {
   "cell_type": "code",
   "execution_count": 117,
   "id": "e7dd320c-6d37-4d58-a130-c621fecb4328",
   "metadata": {},
   "outputs": [
    {
     "name": "stderr",
     "output_type": "stream",
     "text": [
      "C:\\Users\\User\\AppData\\Local\\Temp\\ipykernel_8780\\536416070.py:6: UserWarning: pandas only supports SQLAlchemy connectable (engine/connection) or database string URI or sqlite3 DBAPI2 connection. Other DBAPI2 objects are not tested. Please consider using SQLAlchemy.\n",
      "  avg_order_value = pd.read_sql(query, conn)\n"
     ]
    },
    {
     "data": {
      "text/html": [
       "<div>\n",
       "<style scoped>\n",
       "    .dataframe tbody tr th:only-of-type {\n",
       "        vertical-align: middle;\n",
       "    }\n",
       "\n",
       "    .dataframe tbody tr th {\n",
       "        vertical-align: top;\n",
       "    }\n",
       "\n",
       "    .dataframe thead th {\n",
       "        text-align: right;\n",
       "    }\n",
       "</style>\n",
       "<table border=\"1\" class=\"dataframe\">\n",
       "  <thead>\n",
       "    <tr style=\"text-align: right;\">\n",
       "      <th></th>\n",
       "      <th>order_status</th>\n",
       "      <th>avg_order_value</th>\n",
       "    </tr>\n",
       "  </thead>\n",
       "  <tbody>\n",
       "    <tr>\n",
       "      <th>0</th>\n",
       "      <td>Completed</td>\n",
       "      <td>2584.23</td>\n",
       "    </tr>\n",
       "    <tr>\n",
       "      <th>1</th>\n",
       "      <td>Pending</td>\n",
       "      <td>2412.91</td>\n",
       "    </tr>\n",
       "    <tr>\n",
       "      <th>2</th>\n",
       "      <td>Canceled</td>\n",
       "      <td>2503.48</td>\n",
       "    </tr>\n",
       "  </tbody>\n",
       "</table>\n",
       "</div>"
      ],
      "text/plain": [
       "  order_status  avg_order_value\n",
       "0    Completed          2584.23\n",
       "1      Pending          2412.91\n",
       "2     Canceled          2503.48"
      ]
     },
     "execution_count": 117,
     "metadata": {},
     "output_type": "execute_result"
    }
   ],
   "source": [
    "query = \"\"\"\n",
    "SELECT order_status, ROUND(AVG(total_amount), 2) AS avg_order_value\n",
    "FROM Orders\n",
    "GROUP BY order_status;\n",
    "\"\"\"\n",
    "avg_order_value = pd.read_sql(query, conn)\n",
    "avg_order_value\n"
   ]
  },
  {
   "cell_type": "markdown",
   "id": "b1cfa97f-6605-46f5-84f9-f6f3fce3d2df",
   "metadata": {},
   "source": [
    "## Product Performance"
   ]
  },
  {
   "cell_type": "markdown",
   "id": "55699414-eaac-46bd-a633-4f1ba23150b1",
   "metadata": {},
   "source": [
    "#### - Top 5 Best-Selling Products"
   ]
  },
  {
   "cell_type": "code",
   "execution_count": 121,
   "id": "dd14f105-54d5-4b23-a661-975d3dba0b51",
   "metadata": {},
   "outputs": [
    {
     "name": "stderr",
     "output_type": "stream",
     "text": [
      "C:\\Users\\User\\AppData\\Local\\Temp\\ipykernel_8780\\375976312.py:9: UserWarning: pandas only supports SQLAlchemy connectable (engine/connection) or database string URI or sqlite3 DBAPI2 connection. Other DBAPI2 objects are not tested. Please consider using SQLAlchemy.\n",
      "  top_products = pd.read_sql(query, conn)\n"
     ]
    },
    {
     "data": {
      "text/html": [
       "<div>\n",
       "<style scoped>\n",
       "    .dataframe tbody tr th:only-of-type {\n",
       "        vertical-align: middle;\n",
       "    }\n",
       "\n",
       "    .dataframe tbody tr th {\n",
       "        vertical-align: top;\n",
       "    }\n",
       "\n",
       "    .dataframe thead th {\n",
       "        text-align: right;\n",
       "    }\n",
       "</style>\n",
       "<table border=\"1\" class=\"dataframe\">\n",
       "  <thead>\n",
       "    <tr style=\"text-align: right;\">\n",
       "      <th></th>\n",
       "      <th>product_id</th>\n",
       "      <th>product_name</th>\n",
       "      <th>total_quantity</th>\n",
       "    </tr>\n",
       "  </thead>\n",
       "  <tbody>\n",
       "    <tr>\n",
       "      <th>0</th>\n",
       "      <td>81</td>\n",
       "      <td>Off Bring</td>\n",
       "      <td>575.0</td>\n",
       "    </tr>\n",
       "    <tr>\n",
       "      <th>1</th>\n",
       "      <td>11</td>\n",
       "      <td>Improve Single</td>\n",
       "      <td>559.0</td>\n",
       "    </tr>\n",
       "    <tr>\n",
       "      <th>2</th>\n",
       "      <td>38</td>\n",
       "      <td>Arrive End</td>\n",
       "      <td>524.0</td>\n",
       "    </tr>\n",
       "    <tr>\n",
       "      <th>3</th>\n",
       "      <td>34</td>\n",
       "      <td>Box While</td>\n",
       "      <td>514.0</td>\n",
       "    </tr>\n",
       "    <tr>\n",
       "      <th>4</th>\n",
       "      <td>23</td>\n",
       "      <td>Matter Here</td>\n",
       "      <td>509.0</td>\n",
       "    </tr>\n",
       "  </tbody>\n",
       "</table>\n",
       "</div>"
      ],
      "text/plain": [
       "   product_id    product_name  total_quantity\n",
       "0          81       Off Bring           575.0\n",
       "1          11  Improve Single           559.0\n",
       "2          38      Arrive End           524.0\n",
       "3          34       Box While           514.0\n",
       "4          23     Matter Here           509.0"
      ]
     },
     "execution_count": 121,
     "metadata": {},
     "output_type": "execute_result"
    }
   ],
   "source": [
    "query = \"\"\"\n",
    "SELECT p.product_id, p.product_name, SUM(od.quantity) AS total_quantity\n",
    "FROM OrderDetails od\n",
    "JOIN Products p ON od.product_id = p.product_id\n",
    "GROUP BY p.product_id\n",
    "ORDER BY total_quantity DESC\n",
    "LIMIT 5;\n",
    "\"\"\"\n",
    "top_products = pd.read_sql(query, conn)\n",
    "top_products\n"
   ]
  },
  {
   "cell_type": "markdown",
   "id": "c49a2a72-9c88-4bb6-b2dd-3e56a33b4093",
   "metadata": {},
   "source": [
    "#### - Revenue by Product Category"
   ]
  },
  {
   "cell_type": "code",
   "execution_count": 124,
   "id": "5794e630-1b9f-4bb9-8a09-b1cf32593276",
   "metadata": {},
   "outputs": [
    {
     "name": "stderr",
     "output_type": "stream",
     "text": [
      "C:\\Users\\User\\AppData\\Local\\Temp\\ipykernel_8780\\639410365.py:8: UserWarning: pandas only supports SQLAlchemy connectable (engine/connection) or database string URI or sqlite3 DBAPI2 connection. Other DBAPI2 objects are not tested. Please consider using SQLAlchemy.\n",
      "  category_revenue = pd.read_sql(query, conn)\n"
     ]
    },
    {
     "data": {
      "image/png": "[encoded data removed]",
      "text/plain": [
       "<Figure size 640x480 with 1 Axes>"
      ]
     },
     "metadata": {},
     "output_type": "display_data"
    }
   ],
   "source": [
    "query = \"\"\"\n",
    "SELECT p.category, SUM(od.quantity * p.price) AS total_revenue\n",
    "FROM OrderDetails od\n",
    "JOIN Products p ON od.product_id = p.product_id\n",
    "GROUP BY p.category\n",
    "ORDER BY total_revenue DESC;\n",
    "\"\"\"\n",
    "category_revenue = pd.read_sql(query, conn)\n",
    "sns.barplot(data=category_revenue, x='category', y='total_revenue')\n",
    "plt.title('Revenue by Product Category')\n",
    "plt.xticks(rotation=45)\n",
    "plt.show()\n"
   ]
  },
  {
   "cell_type": "markdown",
   "id": "90725860-b2c2-4388-8539-14e32d7722ca",
   "metadata": {},
   "source": [
    "## Sales Forecast (Simple)"
   ]
  },
  {
   "cell_type": "markdown",
   "id": "f31024c1-f62a-4b03-8eba-dc305733a42e",
   "metadata": {},
   "source": [
    "#### - Monthly Sales Time Series"
   ]
  },
  {
   "cell_type": "code",
   "execution_count": 128,
   "id": "dcafbf9f-fafb-48e7-a5f4-872d023955dc",
   "metadata": {},
   "outputs": [],
   "source": [
    "query = \"\"\"\n",
    "WITH RECURSIVE months AS (\n",
    "    SELECT DATE_FORMAT(DATE_SUB(CURDATE(), INTERVAL 36 MONTH), '%Y-%m-01') AS month\n",
    "    UNION ALL\n",
    "    SELECT DATE_ADD(month, INTERVAL 1 MONTH)\n",
    "    FROM months\n",
    "    WHERE month < LAST_DAY(CURDATE())\n",
    ")\n",
    "SELECT\n",
    "    DATE_FORMAT(m.month, '%Y-%m') AS month,\n",
    "    IFNULL(SUM(o.total_amount), 0) AS total_sales\n",
    "FROM months m\n",
    "LEFT JOIN Orders o\n",
    "  ON YEAR(o.order_date) = YEAR(m.month)\n",
    " AND MONTH(o.order_date) = MONTH(m.month)\n",
    "GROUP BY m.month\n",
    "ORDER BY m.month\n",
    "LIMIT 36;\n",
    "\"\"\""
   ]
  },
  {
   "cell_type": "code",
   "execution_count": 130,
   "id": "f9fb3743-78c7-4d3b-ae46-32334f45ee33",
   "metadata": {
    "scrolled": true
   },
   "outputs": [
    {
     "name": "stderr",
     "output_type": "stream",
     "text": [
      "C:\\Users\\User\\AppData\\Local\\Temp\\ipykernel_8780\\3009568959.py:1: UserWarning: pandas only supports SQLAlchemy connectable (engine/connection) or database string URI or sqlite3 DBAPI2 connection. Other DBAPI2 objects are not tested. Please consider using SQLAlchemy.\n",
      "  sales_ts = pd.read_sql(query, conn)\n"
     ]
    },
    {
     "data": {
      "image/png": "[encoded data removed]",
      "text/plain": [
       "<Figure size 640x480 with 1 Axes>"
      ]
     },
     "metadata": {},
     "output_type": "display_data"
    }
   ],
   "source": [
    "sales_ts = pd.read_sql(query, conn)\n",
    "sales_ts['month'] = pd.to_datetime(sales_ts['month'])\n",
    "sales_ts.set_index('month', inplace=True)\n",
    "\n",
    "sales_ts.plot(title=\"Monthly Sales Over 3 Years\")\n",
    "plt.ylabel(\"Total Sales\")\n",
    "plt.xlabel(\"Month\")\n",
    "plt.xticks(rotation=45)\n",
    "plt.show()\n"
   ]
  },
  {
   "cell_type": "code",
   "execution_count": 144,
   "id": "0eba376f-f470-43a2-97e3-302e750c719f",
   "metadata": {},
   "outputs": [
    {
     "data": {
      "text/html": [
       "<div>\n",
       "<style scoped>\n",
       "    .dataframe tbody tr th:only-of-type {\n",
       "        vertical-align: middle;\n",
       "    }\n",
       "\n",
       "    .dataframe tbody tr th {\n",
       "        vertical-align: top;\n",
       "    }\n",
       "\n",
       "    .dataframe thead th {\n",
       "        text-align: right;\n",
       "    }\n",
       "</style>\n",
       "<table border=\"1\" class=\"dataframe\">\n",
       "  <thead>\n",
       "    <tr style=\"text-align: right;\">\n",
       "      <th></th>\n",
       "      <th>total_sales</th>\n",
       "    </tr>\n",
       "    <tr>\n",
       "      <th>month</th>\n",
       "      <th></th>\n",
       "    </tr>\n",
       "  </thead>\n",
       "  <tbody>\n",
       "    <tr>\n",
       "      <th>2022-06-01</th>\n",
       "      <td>0.0</td>\n",
       "    </tr>\n",
       "    <tr>\n",
       "      <th>2022-07-01</th>\n",
       "      <td>0.0</td>\n",
       "    </tr>\n",
       "    <tr>\n",
       "      <th>2022-08-01</th>\n",
       "      <td>0.0</td>\n",
       "    </tr>\n",
       "    <tr>\n",
       "      <th>2022-09-01</th>\n",
       "      <td>0.0</td>\n",
       "    </tr>\n",
       "    <tr>\n",
       "      <th>2022-10-01</th>\n",
       "      <td>0.0</td>\n",
       "    </tr>\n",
       "  </tbody>\n",
       "</table>\n",
       "</div>"
      ],
      "text/plain": [
       "            total_sales\n",
       "month                  \n",
       "2022-06-01          0.0\n",
       "2022-07-01          0.0\n",
       "2022-08-01          0.0\n",
       "2022-09-01          0.0\n",
       "2022-10-01          0.0"
      ]
     },
     "execution_count": 144,
     "metadata": {},
     "output_type": "execute_result"
    }
   ],
   "source": [
    "sales_ts.head(5)\n"
   ]
  },
  {
   "cell_type": "markdown",
   "id": "1075635f-2667-41a2-9976-ec772caedc67",
   "metadata": {},
   "source": [
    "#### - Forecast with Exponential Smoothing"
   ]
  },
  {
   "cell_type": "code",
   "execution_count": 137,
   "id": "0bffbbe0-4520-4841-8551-fce64e060a12",
   "metadata": {},
   "outputs": [
    {
     "data": {
      "text/plain": [
       "(36, 1)"
      ]
     },
     "execution_count": 137,
     "metadata": {},
     "output_type": "execute_result"
    }
   ],
   "source": [
    "sales_ts.shape\n"
   ]
  },
  {
   "cell_type": "code",
   "execution_count": 141,
   "id": "237f1cbf-a82a-4c7f-8aac-d94011ee4b46",
   "metadata": {},
   "outputs": [
    {
     "data": {
      "text/html": [
       "<div>\n",
       "<style scoped>\n",
       "    .dataframe tbody tr th:only-of-type {\n",
       "        vertical-align: middle;\n",
       "    }\n",
       "\n",
       "    .dataframe tbody tr th {\n",
       "        vertical-align: top;\n",
       "    }\n",
       "\n",
       "    .dataframe thead th {\n",
       "        text-align: right;\n",
       "    }\n",
       "</style>\n",
       "<table border=\"1\" class=\"dataframe\">\n",
       "  <thead>\n",
       "    <tr style=\"text-align: right;\">\n",
       "      <th></th>\n",
       "      <th>total_sales</th>\n",
       "    </tr>\n",
       "    <tr>\n",
       "      <th>month</th>\n",
       "      <th></th>\n",
       "    </tr>\n",
       "  </thead>\n",
       "  <tbody>\n",
       "    <tr>\n",
       "      <th>2024-06-01</th>\n",
       "      <td>1021393.80</td>\n",
       "    </tr>\n",
       "    <tr>\n",
       "      <th>2024-07-01</th>\n",
       "      <td>1561361.77</td>\n",
       "    </tr>\n",
       "    <tr>\n",
       "      <th>2024-08-01</th>\n",
       "      <td>1524411.48</td>\n",
       "    </tr>\n",
       "    <tr>\n",
       "      <th>2024-09-01</th>\n",
       "      <td>1487752.05</td>\n",
       "    </tr>\n",
       "    <tr>\n",
       "      <th>2024-10-01</th>\n",
       "      <td>1702416.13</td>\n",
       "    </tr>\n",
       "  </tbody>\n",
       "</table>\n",
       "</div>"
      ],
      "text/plain": [
       "            total_sales\n",
       "month                  \n",
       "2024-06-01   1021393.80\n",
       "2024-07-01   1561361.77\n",
       "2024-08-01   1524411.48\n",
       "2024-09-01   1487752.05\n",
       "2024-10-01   1702416.13"
      ]
     },
     "execution_count": 141,
     "metadata": {},
     "output_type": "execute_result"
    }
   ],
   "source": [
    "non_zero = sales_ts[sales_ts['total_sales'] > 0]\n",
    "non_zero.head()\n"
   ]
  },
  {
   "cell_type": "code",
   "execution_count": 161,
   "id": "0f723a42-2fbc-4639-bc1c-b65cf138631a",
   "metadata": {},
   "outputs": [
    {
     "name": "stderr",
     "output_type": "stream",
     "text": [
      "C:\\Users\\User\\anaconda3\\Lib\\site-packages\\statsmodels\\tsa\\base\\tsa_model.py:473: ValueWarning: No frequency information was provided, so inferred frequency MS will be used.\n",
      "  self._init_dates(dates, freq)\n",
      "C:\\Users\\User\\anaconda3\\Lib\\site-packages\\statsmodels\\tsa\\holtwinters\\model.py:917: ConvergenceWarning: Optimization failed to converge. Check mle_retvals.\n",
      "  warnings.warn(\n"
     ]
    },
    {
     "data": {
      "image/png": "[encoded data removed]",
      "text/plain": [
       "<Figure size 640x480 with 1 Axes>"
      ]
     },
     "metadata": {},
     "output_type": "display_data"
    }
   ],
   "source": [
    "from statsmodels.tsa.api import ExponentialSmoothing\n",
    "\n",
    "# Build seasonal model \n",
    "model = ExponentialSmoothing(\n",
    "    sales_ts['total_sales'],\n",
    "    trend='add',\n",
    "    seasonal='add',\n",
    "    seasonal_periods=12  \n",
    ")\n",
    "\n",
    "fit = model.fit()\n",
    "forecast = fit.forecast(3)\n",
    "\n",
    "# Plot forecast\n",
    "forecast.plot(label='Forecast', legend=True)\n",
    "sales_ts['total_sales'].plot(label='Actual', legend=True, title=\"Sales Forecast for Next 3 Months\")\n",
    "plt.ylabel(\"Sales\")\n",
    "plt.xlabel(\"Month\")\n",
    "plt.show()\n"
   ]
  },
  {
   "cell_type": "code",
   "execution_count": 151,
   "id": "41c98f5c-8e00-4fd6-9d4e-e16add033181",
   "metadata": {},
   "outputs": [
    {
     "data": {
      "text/plain": [
       "2025-06-01    1.955238e+06\n",
       "2025-07-01    2.224207e+06\n",
       "2025-08-01    2.205213e+06\n",
       "Freq: MS, dtype: float64"
      ]
     },
     "execution_count": 151,
     "metadata": {},
     "output_type": "execute_result"
    }
   ],
   "source": [
    "print   ('hi')"
   ]
  },
  {
   "cell_type": "code",
   "execution_count": 155,
   "id": "88832662-923d-463d-8b8b-2391ab970eba",
   "metadata": {},
   "outputs": [],
   "source": [
    "sales_ts.to_csv(\"monthly_sales.csv\")\n",
    "forecast.to_csv(\"forecast_next_3_months.csv\")\n"
   ]
  }
 ],
 "metadata": {
  "kernelspec": {
   "display_name": "Python 3 (ipykernel)",
   "language": "python",
   "name": "python3"
  },
  "language_info": {
   "codemirror_mode": {
    "name": "ipython",
    "version": 3
   },
   "file_extension": ".py",
   "mimetype": "text/x-python",
   "name": "python",
   "nbconvert_exporter": "python",
   "pygments_lexer": "ipython3",
   "version": "3.11.7"
  }
 },
 "nbformat": 4,
 "nbformat_minor": 5
}
